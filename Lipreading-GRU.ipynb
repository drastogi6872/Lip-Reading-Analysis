{
 "cells": [
  {
   "cell_type": "code",
   "execution_count": 1,
   "metadata": {},
   "outputs": [],
   "source": [
    "import os\n",
    "import cv2\n",
    "import tensorflow as tf\n",
    "import numpy as np\n",
    "from typing import List\n",
    "from matplotlib import pyplot as plt\n",
    "import imageio"
   ]
  },
  {
   "cell_type": "code",
   "execution_count": 2,
   "metadata": {},
   "outputs": [
    {
     "data": {
      "text/plain": [
       "[]"
      ]
     },
     "execution_count": 2,
     "metadata": {},
     "output_type": "execute_result"
    }
   ],
   "source": [
    "tf.config.list_physical_devices('GPU')"
   ]
  },
  {
   "cell_type": "code",
   "execution_count": 3,
   "metadata": {},
   "outputs": [],
   "source": [
    "physical_devices = tf.config.list_physical_devices('GPU')\n",
    "try:\n",
    "    tf.config.experimental.set_memory_growth(physical_devices[0], True)\n",
    "except:\n",
    "    pass"
   ]
  },
  {
   "cell_type": "code",
   "execution_count": 4,
   "metadata": {},
   "outputs": [],
   "source": [
    "def load_video(path:str) -> List[float]: \n",
    "\n",
    "    cap = cv2.VideoCapture(path)\n",
    "    frames = []\n",
    "    for _ in range(int(cap.get(cv2.CAP_PROP_FRAME_COUNT))): \n",
    "        ret, frame = cap.read()\n",
    "        frame = tf.image.rgb_to_grayscale(frame)\n",
    "        frames.append(frame[190:236,80:220,:])\n",
    "    cap.release()\n",
    "    \n",
    "    mean = tf.math.reduce_mean(frames)\n",
    "    std = tf.math.reduce_std(tf.cast(frames, tf.float32))\n",
    "    return tf.cast((frames - mean), tf.float32) / std"
   ]
  },
  {
   "cell_type": "code",
   "execution_count": 5,
   "metadata": {},
   "outputs": [],
   "source": [
    "vocab = [x for x in \"abcdefghijklmnopqrstuvwxyz'?!123456789 \"]"
   ]
  },
  {
   "cell_type": "code",
   "execution_count": 6,
   "metadata": {},
   "outputs": [
    {
     "name": "stdout",
     "output_type": "stream",
     "text": [
      "The vocabulary is: ['', 'a', 'b', 'c', 'd', 'e', 'f', 'g', 'h', 'i', 'j', 'k', 'l', 'm', 'n', 'o', 'p', 'q', 'r', 's', 't', 'u', 'v', 'w', 'x', 'y', 'z', \"'\", '?', '!', '1', '2', '3', '4', '5', '6', '7', '8', '9', ' '] (size =40)\n"
     ]
    }
   ],
   "source": [
    "char_to_num = tf.keras.layers.StringLookup(vocabulary=vocab, oov_token=\"\")\n",
    "num_to_char = tf.keras.layers.StringLookup(\n",
    "    vocabulary=char_to_num.get_vocabulary(), oov_token=\"\", invert=True\n",
    ")\n",
    "\n",
    "print(\n",
    "    f\"The vocabulary is: {char_to_num.get_vocabulary()} \"\n",
    "    f\"(size ={char_to_num.vocabulary_size()})\"\n",
    ")"
   ]
  },
  {
   "cell_type": "code",
   "execution_count": 7,
   "metadata": {},
   "outputs": [
    {
     "data": {
      "text/plain": [
       "['',\n",
       " 'a',\n",
       " 'b',\n",
       " 'c',\n",
       " 'd',\n",
       " 'e',\n",
       " 'f',\n",
       " 'g',\n",
       " 'h',\n",
       " 'i',\n",
       " 'j',\n",
       " 'k',\n",
       " 'l',\n",
       " 'm',\n",
       " 'n',\n",
       " 'o',\n",
       " 'p',\n",
       " 'q',\n",
       " 'r',\n",
       " 's',\n",
       " 't',\n",
       " 'u',\n",
       " 'v',\n",
       " 'w',\n",
       " 'x',\n",
       " 'y',\n",
       " 'z',\n",
       " \"'\",\n",
       " '?',\n",
       " '!',\n",
       " '1',\n",
       " '2',\n",
       " '3',\n",
       " '4',\n",
       " '5',\n",
       " '6',\n",
       " '7',\n",
       " '8',\n",
       " '9',\n",
       " ' ']"
      ]
     },
     "execution_count": 7,
     "metadata": {},
     "output_type": "execute_result"
    }
   ],
   "source": [
    "char_to_num.get_vocabulary()"
   ]
  },
  {
   "cell_type": "code",
   "execution_count": 8,
   "metadata": {},
   "outputs": [
    {
     "data": {
      "text/plain": [
       "<tf.Tensor: shape=(4,), dtype=int64, numpy=array([14,  9,  3, 11], dtype=int64)>"
      ]
     },
     "execution_count": 8,
     "metadata": {},
     "output_type": "execute_result"
    }
   ],
   "source": [
    "char_to_num(['n','i','c','k'])"
   ]
  },
  {
   "cell_type": "code",
   "execution_count": 9,
   "metadata": {},
   "outputs": [],
   "source": [
    "def load_alignments(path:str) -> List[str]: \n",
    "    with open(path, 'r') as f: \n",
    "        lines = f.readlines() \n",
    "    tokens = []\n",
    "    for line in lines:\n",
    "        line = line.split()\n",
    "        if line[2] != 'sil': \n",
    "            tokens = [*tokens,' ',line[2]]\n",
    "    return char_to_num(tf.reshape(tf.strings.unicode_split(tokens, input_encoding='UTF-8'), (-1)))[1:]"
   ]
  },
  {
   "cell_type": "code",
   "execution_count": 10,
   "metadata": {},
   "outputs": [],
   "source": [
    "def load_data(path: str): \n",
    "    path = bytes.decode(path.numpy())\n",
    "    #file_name = path.split('/')[-1].split('.')[0]\n",
    "    # File name splitting for windows\n",
    "    file_name = path.split('\\\\')[-1].split('.')[0]\n",
    "    video_path = os.path.join('data','s1',f'{file_name}.mpg')\n",
    "    alignment_path = os.path.join('data','alignments','s1',f'{file_name}.align')\n",
    "    frames = load_video(video_path) \n",
    "    alignments = load_alignments(alignment_path)\n",
    "    \n",
    "    return frames, alignments"
   ]
  },
  {
   "cell_type": "code",
   "execution_count": 11,
   "metadata": {},
   "outputs": [],
   "source": [
    "test_path = '.\\\\data\\\\s1\\\\bbal6n.mpg'"
   ]
  },
  {
   "cell_type": "code",
   "execution_count": 12,
   "metadata": {},
   "outputs": [
    {
     "data": {
      "text/plain": [
       "'bbal6n'"
      ]
     },
     "execution_count": 12,
     "metadata": {},
     "output_type": "execute_result"
    }
   ],
   "source": [
    "tf.convert_to_tensor(test_path).numpy().decode('utf-8').split('\\\\')[-1].split('.')[0]"
   ]
  },
  {
   "cell_type": "code",
   "execution_count": 13,
   "metadata": {},
   "outputs": [
    {
     "data": {
      "text/plain": [
       "'.\\\\data\\\\s1\\\\bbal6n.mpg'"
      ]
     },
     "execution_count": 13,
     "metadata": {},
     "output_type": "execute_result"
    }
   ],
   "source": [
    "tf.convert_to_tensor(test_path).numpy().decode('utf-8')"
   ]
  },
  {
   "cell_type": "code",
   "execution_count": 14,
   "metadata": {},
   "outputs": [],
   "source": [
    "frames, alignments = load_data(tf.convert_to_tensor(test_path))"
   ]
  },
  {
   "cell_type": "code",
   "execution_count": 15,
   "metadata": {},
   "outputs": [],
   "source": [
    "def mappable_function(path:str) ->List[str]:\n",
    "    result = tf.py_function(load_data, [path], (tf.float32, tf.int64))\n",
    "    return result"
   ]
  },
  {
   "cell_type": "code",
   "execution_count": 16,
   "metadata": {},
   "outputs": [],
   "source": [
    "from matplotlib import pyplot as plt"
   ]
  },
  {
   "cell_type": "code",
   "execution_count": 17,
   "metadata": {},
   "outputs": [
    {
     "name": "stdout",
     "output_type": "stream",
     "text": [
      "Tensor(\"args_0:0\", shape=(), dtype=string)\n"
     ]
    }
   ],
   "source": [
    "data = tf.data.Dataset.list_files('./data/s1/*.mpg')\n",
    "data = data.shuffle(500, reshuffle_each_iteration=False)\n",
    "data = data.map(mappable_function)\n",
    "data = data.padded_batch(2, padded_shapes=([75,None,None,None],[40]))\n",
    "data = data.prefetch(tf.data.AUTOTUNE)\n",
    "# Added for split \n",
    "train = data.take(450)\n",
    "test = data.skip(450)"
   ]
  },
  {
   "cell_type": "code",
   "execution_count": 18,
   "metadata": {},
   "outputs": [
    {
     "data": {
      "text/plain": [
       "50"
      ]
     },
     "execution_count": 18,
     "metadata": {},
     "output_type": "execute_result"
    }
   ],
   "source": [
    "len(test)"
   ]
  },
  {
   "cell_type": "code",
   "execution_count": 19,
   "metadata": {},
   "outputs": [],
   "source": [
    "frames, alignments = data.as_numpy_iterator().next()"
   ]
  },
  {
   "cell_type": "code",
   "execution_count": 20,
   "metadata": {},
   "outputs": [
    {
     "data": {
      "text/plain": [
       "2"
      ]
     },
     "execution_count": 20,
     "metadata": {},
     "output_type": "execute_result"
    }
   ],
   "source": [
    "len(frames)"
   ]
  },
  {
   "cell_type": "code",
   "execution_count": 21,
   "metadata": {},
   "outputs": [],
   "source": [
    "sample = data.as_numpy_iterator()"
   ]
  },
  {
   "cell_type": "code",
   "execution_count": 22,
   "metadata": {},
   "outputs": [
    {
     "data": {
      "text/plain": [
       "array([[[[[ 1.3204705 ],\n",
       "          [ 1.3204705 ],\n",
       "          [ 1.3617351 ],\n",
       "          ...,\n",
       "          [10.439969  ],\n",
       "          [ 0.0825294 ],\n",
       "          [10.522499  ]],\n",
       "\n",
       "         [[ 1.3204705 ],\n",
       "          [ 1.3204705 ],\n",
       "          [ 1.3617351 ],\n",
       "          ...,\n",
       "          [10.316175  ],\n",
       "          [10.481235  ],\n",
       "          [ 0.0825294 ]],\n",
       "\n",
       "         [[ 1.2792057 ],\n",
       "          [ 1.2792057 ],\n",
       "          [ 1.2792057 ],\n",
       "          ...,\n",
       "          [10.522499  ],\n",
       "          [ 0.        ],\n",
       "          [ 0.        ]],\n",
       "\n",
       "         ...,\n",
       "\n",
       "         [[ 0.9903528 ],\n",
       "          [ 0.9903528 ],\n",
       "          [ 0.9490881 ],\n",
       "          ...,\n",
       "          [10.233645  ],\n",
       "          [10.233645  ],\n",
       "          [10.233645  ]],\n",
       "\n",
       "         [[ 0.9903528 ],\n",
       "          [ 0.9903528 ],\n",
       "          [ 0.9490881 ],\n",
       "          ...,\n",
       "          [10.192381  ],\n",
       "          [10.192381  ],\n",
       "          [10.192381  ]],\n",
       "\n",
       "         [[ 0.9903528 ],\n",
       "          [ 0.9903528 ],\n",
       "          [ 0.9490881 ],\n",
       "          ...,\n",
       "          [10.192381  ],\n",
       "          [10.192381  ],\n",
       "          [10.192381  ]]],\n",
       "\n",
       "\n",
       "        [[[ 1.3617351 ],\n",
       "          [ 1.3617351 ],\n",
       "          [ 1.3204705 ],\n",
       "          ...,\n",
       "          [10.398705  ],\n",
       "          [ 0.0412647 ],\n",
       "          [ 0.        ]],\n",
       "\n",
       "         [[ 1.3617351 ],\n",
       "          [ 1.3617351 ],\n",
       "          [ 1.3204705 ],\n",
       "          ...,\n",
       "          [10.398705  ],\n",
       "          [10.522499  ],\n",
       "          [ 0.0412647 ]],\n",
       "\n",
       "         [[ 1.237941  ],\n",
       "          [ 1.237941  ],\n",
       "          [ 1.237941  ],\n",
       "          ...,\n",
       "          [10.522499  ],\n",
       "          [ 0.        ],\n",
       "          [ 0.        ]],\n",
       "\n",
       "         ...,\n",
       "\n",
       "         [[ 0.90782344],\n",
       "          [ 0.90782344],\n",
       "          [ 0.86655873],\n",
       "          ...,\n",
       "          [10.192381  ],\n",
       "          [10.192381  ],\n",
       "          [10.233645  ]],\n",
       "\n",
       "         [[ 0.90782344],\n",
       "          [ 0.90782344],\n",
       "          [ 0.86655873],\n",
       "          ...,\n",
       "          [10.151116  ],\n",
       "          [10.233645  ],\n",
       "          [10.233645  ]],\n",
       "\n",
       "         [[ 0.90782344],\n",
       "          [ 0.90782344],\n",
       "          [ 0.86655873],\n",
       "          ...,\n",
       "          [10.192381  ],\n",
       "          [10.233645  ],\n",
       "          [10.233645  ]]],\n",
       "\n",
       "\n",
       "        [[[ 1.3204705 ],\n",
       "          [ 1.3204705 ],\n",
       "          [ 1.3204705 ],\n",
       "          ...,\n",
       "          [10.439969  ],\n",
       "          [10.522499  ],\n",
       "          [10.481235  ]],\n",
       "\n",
       "         [[ 1.2792057 ],\n",
       "          [ 1.2792057 ],\n",
       "          [ 1.3204705 ],\n",
       "          ...,\n",
       "          [10.398705  ],\n",
       "          [10.481235  ],\n",
       "          [ 0.        ]],\n",
       "\n",
       "         [[ 1.3617351 ],\n",
       "          [ 1.3617351 ],\n",
       "          [ 1.3617351 ],\n",
       "          ...,\n",
       "          [10.522499  ],\n",
       "          [ 0.        ],\n",
       "          [ 0.        ]],\n",
       "\n",
       "         ...,\n",
       "\n",
       "         [[ 0.9490881 ],\n",
       "          [ 0.90782344],\n",
       "          [ 0.90782344],\n",
       "          ...,\n",
       "          [10.233645  ],\n",
       "          [10.233645  ],\n",
       "          [10.233645  ]],\n",
       "\n",
       "         [[ 0.9490881 ],\n",
       "          [ 0.90782344],\n",
       "          [ 0.90782344],\n",
       "          ...,\n",
       "          [10.233645  ],\n",
       "          [10.274911  ],\n",
       "          [10.274911  ]],\n",
       "\n",
       "         [[ 0.9490881 ],\n",
       "          [ 0.90782344],\n",
       "          [ 0.90782344],\n",
       "          ...,\n",
       "          [10.233645  ],\n",
       "          [10.274911  ],\n",
       "          [10.274911  ]]],\n",
       "\n",
       "\n",
       "        ...,\n",
       "\n",
       "\n",
       "        [[[ 1.3617351 ],\n",
       "          [ 1.3617351 ],\n",
       "          [ 1.4029999 ],\n",
       "          ...,\n",
       "          [10.439969  ],\n",
       "          [10.439969  ],\n",
       "          [10.398705  ]],\n",
       "\n",
       "         [[ 1.3617351 ],\n",
       "          [ 1.3617351 ],\n",
       "          [ 1.4029999 ],\n",
       "          ...,\n",
       "          [10.481235  ],\n",
       "          [10.481235  ],\n",
       "          [10.439969  ]],\n",
       "\n",
       "         [[ 1.2792057 ],\n",
       "          [ 1.2792057 ],\n",
       "          [ 1.2792057 ],\n",
       "          ...,\n",
       "          [10.481235  ],\n",
       "          [10.522499  ],\n",
       "          [10.522499  ]],\n",
       "\n",
       "         ...,\n",
       "\n",
       "         [[ 0.90782344],\n",
       "          [ 0.90782344],\n",
       "          [ 0.90782344],\n",
       "          ...,\n",
       "          [10.233645  ],\n",
       "          [10.233645  ],\n",
       "          [10.233645  ]],\n",
       "\n",
       "         [[ 0.90782344],\n",
       "          [ 0.90782344],\n",
       "          [ 0.90782344],\n",
       "          ...,\n",
       "          [10.233645  ],\n",
       "          [10.233645  ],\n",
       "          [10.233645  ]],\n",
       "\n",
       "         [[ 0.90782344],\n",
       "          [ 0.90782344],\n",
       "          [ 0.86655873],\n",
       "          ...,\n",
       "          [10.233645  ],\n",
       "          [10.233645  ],\n",
       "          [10.192381  ]]],\n",
       "\n",
       "\n",
       "        [[[ 1.3617351 ],\n",
       "          [ 1.3617351 ],\n",
       "          [ 1.3617351 ],\n",
       "          ...,\n",
       "          [10.481235  ],\n",
       "          [ 0.        ],\n",
       "          [10.481235  ]],\n",
       "\n",
       "         [[ 1.3617351 ],\n",
       "          [ 1.3617351 ],\n",
       "          [ 1.3617351 ],\n",
       "          ...,\n",
       "          [ 0.0412647 ],\n",
       "          [10.481235  ],\n",
       "          [10.481235  ]],\n",
       "\n",
       "         [[ 1.2792057 ],\n",
       "          [ 1.2792057 ],\n",
       "          [ 1.2792057 ],\n",
       "          ...,\n",
       "          [10.481235  ],\n",
       "          [10.522499  ],\n",
       "          [10.522499  ]],\n",
       "\n",
       "         ...,\n",
       "\n",
       "         [[ 0.90782344],\n",
       "          [ 0.90782344],\n",
       "          [ 0.90782344],\n",
       "          ...,\n",
       "          [10.233645  ],\n",
       "          [10.233645  ],\n",
       "          [10.233645  ]],\n",
       "\n",
       "         [[ 0.90782344],\n",
       "          [ 0.90782344],\n",
       "          [ 0.86655873],\n",
       "          ...,\n",
       "          [10.233645  ],\n",
       "          [10.233645  ],\n",
       "          [10.192381  ]],\n",
       "\n",
       "         [[ 0.90782344],\n",
       "          [ 0.86655873],\n",
       "          [ 0.86655873],\n",
       "          ...,\n",
       "          [10.192381  ],\n",
       "          [10.192381  ],\n",
       "          [10.192381  ]]],\n",
       "\n",
       "\n",
       "        [[[ 1.4029999 ],\n",
       "          [ 1.4029999 ],\n",
       "          [ 1.3617351 ],\n",
       "          ...,\n",
       "          [10.35744   ],\n",
       "          [10.522499  ],\n",
       "          [ 0.        ]],\n",
       "\n",
       "         [[ 1.4029999 ],\n",
       "          [ 1.4029999 ],\n",
       "          [ 1.3617351 ],\n",
       "          ...,\n",
       "          [ 0.        ],\n",
       "          [10.481235  ],\n",
       "          [10.522499  ]],\n",
       "\n",
       "         [[ 1.3204705 ],\n",
       "          [ 1.3204705 ],\n",
       "          [ 1.3204705 ],\n",
       "          ...,\n",
       "          [10.522499  ],\n",
       "          [10.481235  ],\n",
       "          [10.481235  ]],\n",
       "\n",
       "         ...,\n",
       "\n",
       "         [[ 0.9490881 ],\n",
       "          [ 0.9490881 ],\n",
       "          [ 0.9490881 ],\n",
       "          ...,\n",
       "          [10.233645  ],\n",
       "          [10.233645  ],\n",
       "          [10.233645  ]],\n",
       "\n",
       "         [[ 0.9490881 ],\n",
       "          [ 0.9490881 ],\n",
       "          [ 0.90782344],\n",
       "          ...,\n",
       "          [10.233645  ],\n",
       "          [10.233645  ],\n",
       "          [10.233645  ]],\n",
       "\n",
       "         [[ 0.9490881 ],\n",
       "          [ 0.90782344],\n",
       "          [ 0.90782344],\n",
       "          ...,\n",
       "          [10.233645  ],\n",
       "          [10.192381  ],\n",
       "          [10.192381  ]]]],\n",
       "\n",
       "\n",
       "\n",
       "       [[[[ 1.488298  ],\n",
       "          [ 1.488298  ],\n",
       "          [ 1.5255055 ],\n",
       "          ...,\n",
       "          [ 0.26045215],\n",
       "          [ 0.3720745 ],\n",
       "          [ 0.3720745 ]],\n",
       "\n",
       "         [[ 1.488298  ],\n",
       "          [ 1.488298  ],\n",
       "          [ 1.5255055 ],\n",
       "          ...,\n",
       "          [ 0.26045215],\n",
       "          [ 0.3720745 ],\n",
       "          [ 0.3720745 ]],\n",
       "\n",
       "         [[ 1.4510906 ],\n",
       "          [ 1.4510906 ],\n",
       "          [ 1.4510906 ],\n",
       "          ...,\n",
       "          [ 0.33486706],\n",
       "          [ 0.2976596 ],\n",
       "          [ 0.2976596 ]],\n",
       "\n",
       "         ...,\n",
       "\n",
       "         [[ 1.0418086 ],\n",
       "          [ 1.0418086 ],\n",
       "          [ 1.0418086 ],\n",
       "          ...,\n",
       "          [ 0.03720745],\n",
       "          [ 0.03720745],\n",
       "          [ 0.        ]],\n",
       "\n",
       "         [[ 1.0046012 ],\n",
       "          [ 1.0046012 ],\n",
       "          [ 1.0046012 ],\n",
       "          ...,\n",
       "          [ 0.0744149 ],\n",
       "          [ 0.        ],\n",
       "          [ 0.        ]],\n",
       "\n",
       "         [[ 1.0046012 ],\n",
       "          [ 1.0046012 ],\n",
       "          [ 1.0046012 ],\n",
       "          ...,\n",
       "          [ 0.03720745],\n",
       "          [ 0.        ],\n",
       "          [ 9.4879    ]]],\n",
       "\n",
       "\n",
       "        [[[ 1.4510906 ],\n",
       "          [ 1.4510906 ],\n",
       "          [ 1.4138831 ],\n",
       "          ...,\n",
       "          [ 0.2976596 ],\n",
       "          [ 0.26045215],\n",
       "          [ 0.26045215]],\n",
       "\n",
       "         [[ 1.4510906 ],\n",
       "          [ 1.4510906 ],\n",
       "          [ 1.4138831 ],\n",
       "          ...,\n",
       "          [ 0.2976596 ],\n",
       "          [ 0.26045215],\n",
       "          [ 0.26045215]],\n",
       "\n",
       "         [[ 1.4138831 ],\n",
       "          [ 1.4138831 ],\n",
       "          [ 1.4510906 ],\n",
       "          ...,\n",
       "          [ 0.33486706],\n",
       "          [ 0.26045215],\n",
       "          [ 0.26045215]],\n",
       "\n",
       "         ...,\n",
       "\n",
       "         [[ 1.0790161 ],\n",
       "          [ 1.0790161 ],\n",
       "          [ 1.0418086 ],\n",
       "          ...,\n",
       "          [ 0.0744149 ],\n",
       "          [ 0.11162236],\n",
       "          [ 0.0744149 ]],\n",
       "\n",
       "         [[ 1.0418086 ],\n",
       "          [ 1.0418086 ],\n",
       "          [ 1.0046012 ],\n",
       "          ...,\n",
       "          [ 0.0744149 ],\n",
       "          [ 0.0744149 ],\n",
       "          [ 0.0744149 ]],\n",
       "\n",
       "         [[ 1.0418086 ],\n",
       "          [ 1.0418086 ],\n",
       "          [ 1.0046012 ],\n",
       "          ...,\n",
       "          [ 0.03720745],\n",
       "          [ 0.0744149 ],\n",
       "          [ 0.03720745]]],\n",
       "\n",
       "\n",
       "        [[[ 1.4138831 ],\n",
       "          [ 1.4138831 ],\n",
       "          [ 1.4510906 ],\n",
       "          ...,\n",
       "          [ 0.40928197],\n",
       "          [ 0.33486706],\n",
       "          [ 0.33486706]],\n",
       "\n",
       "         [[ 1.4138831 ],\n",
       "          [ 1.4138831 ],\n",
       "          [ 1.4510906 ],\n",
       "          ...,\n",
       "          [ 0.40928197],\n",
       "          [ 0.33486706],\n",
       "          [ 0.33486706]],\n",
       "\n",
       "         [[ 1.3766757 ],\n",
       "          [ 1.3766757 ],\n",
       "          [ 1.4138831 ],\n",
       "          ...,\n",
       "          [ 0.3720745 ],\n",
       "          [ 0.2976596 ],\n",
       "          [ 0.2976596 ]],\n",
       "\n",
       "         ...,\n",
       "\n",
       "         [[ 1.0418086 ],\n",
       "          [ 1.0418086 ],\n",
       "          [ 1.0046012 ],\n",
       "          ...,\n",
       "          [ 0.0744149 ],\n",
       "          [ 0.11162236],\n",
       "          [ 0.0744149 ]],\n",
       "\n",
       "         [[ 1.0046012 ],\n",
       "          [ 1.0046012 ],\n",
       "          [ 0.96739376],\n",
       "          ...,\n",
       "          [ 0.0744149 ],\n",
       "          [ 0.0744149 ],\n",
       "          [ 0.0744149 ]],\n",
       "\n",
       "         [[ 1.0046012 ],\n",
       "          [ 1.0046012 ],\n",
       "          [ 0.96739376],\n",
       "          ...,\n",
       "          [ 0.03720745],\n",
       "          [ 0.0744149 ],\n",
       "          [ 0.03720745]]],\n",
       "\n",
       "\n",
       "        ...,\n",
       "\n",
       "\n",
       "        [[[ 1.4138831 ],\n",
       "          [ 1.4138831 ],\n",
       "          [ 1.3394682 ],\n",
       "          ...,\n",
       "          [ 0.2976596 ],\n",
       "          [ 0.2976596 ],\n",
       "          [ 0.2976596 ]],\n",
       "\n",
       "         [[ 1.4138831 ],\n",
       "          [ 1.4138831 ],\n",
       "          [ 1.3394682 ],\n",
       "          ...,\n",
       "          [ 0.2976596 ],\n",
       "          [ 0.2976596 ],\n",
       "          [ 0.2976596 ]],\n",
       "\n",
       "         [[ 1.4138831 ],\n",
       "          [ 1.4138831 ],\n",
       "          [ 1.4138831 ],\n",
       "          ...,\n",
       "          [ 0.2976596 ],\n",
       "          [ 0.26045215],\n",
       "          [ 0.2976596 ]],\n",
       "\n",
       "         ...,\n",
       "\n",
       "         [[ 0.96739376],\n",
       "          [ 0.96739376],\n",
       "          [ 1.0046012 ],\n",
       "          ...,\n",
       "          [ 0.11162236],\n",
       "          [ 0.03720745],\n",
       "          [ 0.03720745]],\n",
       "\n",
       "         [[ 0.96739376],\n",
       "          [ 0.96739376],\n",
       "          [ 1.0046012 ],\n",
       "          ...,\n",
       "          [ 0.11162236],\n",
       "          [ 0.03720745],\n",
       "          [ 0.03720745]],\n",
       "\n",
       "         [[ 0.96739376],\n",
       "          [ 0.96739376],\n",
       "          [ 1.0046012 ],\n",
       "          ...,\n",
       "          [ 0.0744149 ],\n",
       "          [ 0.03720745],\n",
       "          [ 0.        ]]],\n",
       "\n",
       "\n",
       "        [[[ 1.3766757 ],\n",
       "          [ 1.3766757 ],\n",
       "          [ 1.3394682 ],\n",
       "          ...,\n",
       "          [ 0.3720745 ],\n",
       "          [ 0.26045215],\n",
       "          [ 0.26045215]],\n",
       "\n",
       "         [[ 1.3766757 ],\n",
       "          [ 1.3766757 ],\n",
       "          [ 1.3394682 ],\n",
       "          ...,\n",
       "          [ 0.3720745 ],\n",
       "          [ 0.26045215],\n",
       "          [ 0.26045215]],\n",
       "\n",
       "         [[ 1.4138831 ],\n",
       "          [ 1.4138831 ],\n",
       "          [ 1.4138831 ],\n",
       "          ...,\n",
       "          [ 0.33486706],\n",
       "          [ 0.33486706],\n",
       "          [ 0.3720745 ]],\n",
       "\n",
       "         ...,\n",
       "\n",
       "         [[ 1.0418086 ],\n",
       "          [ 1.0418086 ],\n",
       "          [ 0.96739376],\n",
       "          ...,\n",
       "          [ 0.11162236],\n",
       "          [ 0.0744149 ],\n",
       "          [ 0.0744149 ]],\n",
       "\n",
       "         [[ 1.0418086 ],\n",
       "          [ 1.0418086 ],\n",
       "          [ 0.96739376],\n",
       "          ...,\n",
       "          [ 0.03720745],\n",
       "          [ 0.0744149 ],\n",
       "          [ 0.03720745]],\n",
       "\n",
       "         [[ 1.0418086 ],\n",
       "          [ 1.0418086 ],\n",
       "          [ 0.96739376],\n",
       "          ...,\n",
       "          [ 0.03720745],\n",
       "          [ 0.03720745],\n",
       "          [ 0.03720745]]],\n",
       "\n",
       "\n",
       "        [[[ 1.4138831 ],\n",
       "          [ 1.4138831 ],\n",
       "          [ 1.3766757 ],\n",
       "          ...,\n",
       "          [ 0.3720745 ],\n",
       "          [ 0.26045215],\n",
       "          [ 0.26045215]],\n",
       "\n",
       "         [[ 1.4138831 ],\n",
       "          [ 1.4138831 ],\n",
       "          [ 1.3766757 ],\n",
       "          ...,\n",
       "          [ 0.3720745 ],\n",
       "          [ 0.26045215],\n",
       "          [ 0.26045215]],\n",
       "\n",
       "         [[ 1.4138831 ],\n",
       "          [ 1.4138831 ],\n",
       "          [ 1.3766757 ],\n",
       "          ...,\n",
       "          [ 0.33486706],\n",
       "          [ 0.33486706],\n",
       "          [ 0.3720745 ]],\n",
       "\n",
       "         ...,\n",
       "\n",
       "         [[ 1.0046012 ],\n",
       "          [ 1.0046012 ],\n",
       "          [ 0.96739376],\n",
       "          ...,\n",
       "          [ 0.0744149 ],\n",
       "          [ 0.0744149 ],\n",
       "          [ 0.03720745]],\n",
       "\n",
       "         [[ 1.0046012 ],\n",
       "          [ 1.0046012 ],\n",
       "          [ 0.96739376],\n",
       "          ...,\n",
       "          [ 0.03720745],\n",
       "          [ 0.03720745],\n",
       "          [ 0.03720745]],\n",
       "\n",
       "         [[ 1.0046012 ],\n",
       "          [ 1.0046012 ],\n",
       "          [ 0.96739376],\n",
       "          ...,\n",
       "          [ 0.        ],\n",
       "          [ 0.03720745],\n",
       "          [ 0.03720745]]]]], dtype=float32)"
      ]
     },
     "execution_count": 22,
     "metadata": {},
     "output_type": "execute_result"
    }
   ],
   "source": [
    "val = sample.next(); val[0]"
   ]
  },
  {
   "cell_type": "code",
   "execution_count": 23,
   "metadata": {},
   "outputs": [
    {
     "data": {
      "text/plain": [
       "<matplotlib.image.AxesImage at 0x20422352340>"
      ]
     },
     "execution_count": 23,
     "metadata": {},
     "output_type": "execute_result"
    },
    {
     "data": {
      "image/png": "[encoded data removed]",
      "text/plain": [
       "<Figure size 432x288 with 1 Axes>"
      ]
     },
     "metadata": {
      "needs_background": "light"
     },
     "output_type": "display_data"
    }
   ],
   "source": [
    "plt.imshow(val[0][0][35])"
   ]
  },
  {
   "cell_type": "code",
   "execution_count": 24,
   "metadata": {},
   "outputs": [
    {
     "data": {
      "text/plain": [
       "<tf.Tensor: shape=(), dtype=string, numpy=b'bin blue with m five soon'>"
      ]
     },
     "execution_count": 24,
     "metadata": {},
     "output_type": "execute_result"
    }
   ],
   "source": [
    "tf.strings.reduce_join([num_to_char(word) for word in val[1][0]])"
   ]
  },
  {
   "cell_type": "code",
   "execution_count": 25,
   "metadata": {},
   "outputs": [],
   "source": [
    "from tensorflow.keras.models import Sequential \n",
    "from tensorflow.keras.layers import Conv3D, LSTM, Dense, Dropout, Bidirectional, MaxPool3D, Activation, Reshape, SpatialDropout3D, BatchNormalization, TimeDistributed, Flatten\n",
    "from tensorflow.keras.optimizers import Adam\n",
    "from tensorflow.keras.callbacks import ModelCheckpoint, LearningRateScheduler"
   ]
  },
  {
   "cell_type": "code",
   "execution_count": 26,
   "metadata": {},
   "outputs": [
    {
     "data": {
      "text/plain": [
       "(75, 46, 140, 1)"
      ]
     },
     "execution_count": 26,
     "metadata": {},
     "output_type": "execute_result"
    }
   ],
   "source": [
    "data.as_numpy_iterator().next()[0][0].shape"
   ]
  },
  {
   "cell_type": "code",
   "execution_count": 27,
   "metadata": {},
   "outputs": [],
   "source": [
    "from keras.models import Sequential\n",
    "from keras.layers import Conv3D, MaxPooling3D, Dropout, Flatten, Dense, Activation, Bidirectional, GRU, TimeDistributed, ZeroPadding3D\n",
    "\n",
    "from keras import backend as K\n",
    "\n",
    "model = Sequential()\n",
    "model.add(ZeroPadding3D(padding=(1, 2, 2), name='zero1', input_shape=(75,46,140,1)))\n",
    "model.add(Conv3D(32, (3, 5, 5), strides=(1, 2, 2), activation='relu', kernel_initializer='he_normal', name='conv1'))\n",
    "model.add(MaxPooling3D(pool_size=(1, 2, 2), strides=(1, 2, 2), name='max1'))\n",
    "model.add(Dropout(0.5))\n",
    "\n",
    "model.add(ZeroPadding3D(padding=(1, 2, 2), name='zero2'))\n",
    "model.add(Conv3D(64, (3, 5, 5), strides=(1, 1, 1), activation='relu', kernel_initializer='he_normal', name='conv2'))\n",
    "model.add(MaxPooling3D(pool_size=(1, 2, 2), strides=(1, 2, 2), name='max2'))\n",
    "model.add(Dropout(0.5))\n",
    "\n",
    "model.add(ZeroPadding3D(padding=(1, 1, 1), name='zero3'))\n",
    "model.add(Conv3D(96, (3, 3, 3), strides=(1, 1, 1), activation='relu', kernel_initializer='he_normal', name='conv3'))\n",
    "model.add(MaxPooling3D(pool_size=(1, 2, 2), strides=(1, 2, 2), name='max3'))\n",
    "model.add(Dropout(0.5))\n",
    "\n",
    "model.add(TimeDistributed(Flatten()))\n",
    "\n",
    "model.add(Bidirectional(GRU(256, return_sequences=True, kernel_initializer='Orthogonal', name='gru1'), merge_mode='concat'))\n",
    "model.add(Bidirectional(GRU(256, return_sequences=True, kernel_initializer='Orthogonal', name='gru2'), merge_mode='concat'))\n",
    "\n",
    "model.add(Dense(char_to_num.vocabulary_size()+1, kernel_initializer='he_normal', name='dense1'))\n",
    "model.add(Activation('softmax', name='softmax'))\n"
   ]
  },
  {
   "cell_type": "code",
   "execution_count": 28,
   "metadata": {},
   "outputs": [],
   "source": [
    "def scheduler(epoch, lr):\n",
    "    if epoch < 30:\n",
    "        return lr\n",
    "    else:\n",
    "        return lr * tf.math.exp(-0.1)"
   ]
  },
  {
   "cell_type": "code",
   "execution_count": 29,
   "metadata": {},
   "outputs": [],
   "source": [
    "def CTCLoss(y_true, y_pred):\n",
    "    batch_len = tf.cast(tf.shape(y_true)[0], dtype=\"int64\")\n",
    "    input_length = tf.cast(tf.shape(y_pred)[1], dtype=\"int64\")\n",
    "    label_length = tf.cast(tf.shape(y_true)[1], dtype=\"int64\")\n",
    "\n",
    "    input_length = input_length * tf.ones(shape=(batch_len, 1), dtype=\"int64\")\n",
    "    label_length = label_length * tf.ones(shape=(batch_len, 1), dtype=\"int64\")\n",
    "\n",
    "    loss = tf.keras.backend.ctc_batch_cost(y_true, y_pred, input_length, label_length)\n",
    "    return loss"
   ]
  },
  {
   "cell_type": "code",
   "execution_count": null,
   "metadata": {},
   "outputs": [],
   "source": []
  },
  {
   "cell_type": "code",
   "execution_count": 30,
   "metadata": {},
   "outputs": [],
   "source": [
    "class ProduceExample(tf.keras.callbacks.Callback): \n",
    "    def __init__(self, dataset) -> None: \n",
    "        self.dataset = dataset.as_numpy_iterator()\n",
    "    \n",
    "    def on_epoch_end(self, epoch, logs=None) -> None:\n",
    "        data = self.dataset.next()\n",
    "        yhat = self.model.predict(data[0])\n",
    "        decoded = tf.keras.backend.ctc_decode(yhat, [75,75], greedy=False)[0][0].numpy()\n",
    "        for x in range(len(yhat)):           \n",
    "            print('Original:', tf.strings.reduce_join(num_to_char(data[1][x])).numpy().decode('utf-8'))\n",
    "            print('Prediction:', tf.strings.reduce_join(num_to_char(decoded[x])).numpy().decode('utf-8'))\n",
    "            print('~'*100)"
   ]
  },
  {
   "cell_type": "code",
   "execution_count": 31,
   "metadata": {},
   "outputs": [],
   "source": [
    "model.compile(optimizer=Adam(learning_rate=0.0001), loss=CTCLoss, metrics=['accuracy'])"
   ]
  },
  {
   "cell_type": "code",
   "execution_count": 32,
   "metadata": {},
   "outputs": [],
   "source": [
    "checkpoint_callback = ModelCheckpoint(os.path.join('models','checkpoint'), monitor='loss', save_weights_only=True) "
   ]
  },
  {
   "cell_type": "code",
   "execution_count": 33,
   "metadata": {},
   "outputs": [],
   "source": [
    "schedule_callback = LearningRateScheduler(scheduler)"
   ]
  },
  {
   "cell_type": "code",
   "execution_count": 34,
   "metadata": {},
   "outputs": [],
   "source": [
    "model.load_weights('model_weights0.6loss.h5')"
   ]
  },
  {
   "cell_type": "code",
   "execution_count": 35,
   "metadata": {},
   "outputs": [
    {
     "name": "stdout",
     "output_type": "stream",
     "text": [
      "Epoch 1/10\n",
      "463s - loss: 0.5711 - acc: 0.7972 - val_loss: 3.6389 - val_acc: 0.7501\n",
      "Epoch 2/10\n",
      "463s - loss: 0.5674 - acc: 0.7997 - val_loss: 3.7483 - val_acc: 0.7649\n",
      "Epoch 3/10\n",
      "463s - loss: 0.5524 - acc: 0.8004 - val_loss: 3.6490 - val_acc: 0.7654\n",
      "Epoch 4/10\n",
      "464s - loss: 0.5477 - acc: 0.8140 - val_loss: 3.6353 - val_acc: 0.7550\n",
      "Epoch 5/10\n",
      "463s - loss: 0.5371 - acc: 0.8134 - val_loss: 3.6578 - val_acc: 0.7599\n",
      "Epoch 6/10\n",
      "463s - loss: 0.5333 - acc: 0.8204 - val_loss: 3.7819 - val_acc: 0.7550\n",
      "Epoch 7/10\n",
      "463s - loss: 0.5284 - acc: 0.8375 - val_loss: 3.5705 - val_acc: 0.7752\n",
      "Epoch 8/10\n",
      "464s - loss: 0.5048 - acc: 0.8583 - val_loss: 3.6772 - val_acc: 0.7742\n",
      "Epoch 9/10\n",
      "463s - loss: 0.5174 - acc: 0.8472 - val_loss: 3.6821 - val_acc: 0.7757\n",
      "Epoch 10/10\n",
      "463s - loss: 0.5001 - acc: 0.8617 - val_loss: 3.7435 - val_acc: 0.7756\n"
     ]
    }
   ],
   "source": [
    "model.fit(train, validation_data=test, epochs=10)"
   ]
  },
  {
   "cell_type": "code",
   "execution_count": 36,
   "metadata": {},
   "outputs": [],
   "source": [
    "test_data = test.as_numpy_iterator()"
   ]
  },
  {
   "cell_type": "code",
   "execution_count": 37,
   "metadata": {},
   "outputs": [],
   "source": [
    "sample = test_data.next()"
   ]
  },
  {
   "cell_type": "code",
   "execution_count": 38,
   "metadata": {},
   "outputs": [
    {
     "name": "stdout",
     "output_type": "stream",
     "text": [
      "1/1 [==============================] - 6s 6s/step\n"
     ]
    }
   ],
   "source": [
    "yhat = model.predict(sample[0])"
   ]
  },
  {
   "cell_type": "code",
   "execution_count": 39,
   "metadata": {},
   "outputs": [
    {
     "name": "stdout",
     "output_type": "stream",
     "text": [
      "~~~~~~~~~~~~~~~~~~~~~~~~~~~~~~~~~~~~~~~~~~~~~~~~~~~~~~~~~~~~~~~~~~~~~~~~~~~~~~~~~~~~~~~~~~~~~~~~~~~~ REAL TEXT\n"
     ]
    },
    {
     "data": {
      "text/plain": [
       "[<tf.Tensor: shape=(), dtype=string, numpy=b'place red at j zero now'>,\n",
       " <tf.Tensor: shape=(), dtype=string, numpy=b'set green in i four please'>]"
      ]
     },
     "execution_count": 39,
     "metadata": {},
     "output_type": "execute_result"
    }
   ],
   "source": [
    "print('~'*100, 'REAL TEXT')\n",
    "[tf.strings.reduce_join([num_to_char(word) for word in sentence]) for sentence in sample[1]]"
   ]
  },
  {
   "cell_type": "code",
   "execution_count": 40,
   "metadata": {},
   "outputs": [],
   "source": [
    "decoded = tf.keras.backend.ctc_decode(yhat, input_length=[75,75], greedy=True)[0][0].numpy()"
   ]
  },
  {
   "cell_type": "code",
   "execution_count": 41,
   "metadata": {},
   "outputs": [
    {
     "name": "stdout",
     "output_type": "stream",
     "text": [
      "~~~~~~~~~~~~~~~~~~~~~~~~~~~~~~~~~~~~~~~~~~~~~~~~~~~~~~~~~~~~~~~~~~~~~~~~~~~~~~~~~~~~~~~~~~~~~~~~~~~~ PREDICTIONS\n"
     ]
    },
    {
     "data": {
      "text/plain": [
       "[<tf.Tensor: shape=(), dtype=string, numpy=b'place red at j zero now'>,\n",
       " <tf.Tensor: shape=(), dtype=string, numpy=b'set green in i four please'>]"
      ]
     },
     "execution_count": 41,
     "metadata": {},
     "output_type": "execute_result"
    }
   ],
   "source": [
    "print('~'*100, 'PREDICTIONS')\n",
    "[tf.strings.reduce_join([num_to_char(word) for word in sentence]) for sentence in decoded]"
   ]
  },
  {
   "cell_type": "code",
   "execution_count": 42,
   "metadata": {},
   "outputs": [],
   "source": [
    "sample = load_data(tf.convert_to_tensor('.\\\\data\\\\s1\\\\bras9a.mpg'))"
   ]
  },
  {
   "cell_type": "code",
   "execution_count": 43,
   "metadata": {},
   "outputs": [
    {
     "name": "stdout",
     "output_type": "stream",
     "text": [
      "~~~~~~~~~~~~~~~~~~~~~~~~~~~~~~~~~~~~~~~~~~~~~~~~~~~~~~~~~~~~~~~~~~~~~~~~~~~~~~~~~~~~~~~~~~~~~~~~~~~~ REAL TEXT\n"
     ]
    },
    {
     "data": {
      "text/plain": [
       "[<tf.Tensor: shape=(), dtype=string, numpy=b'bin red at s nine again'>]"
      ]
     },
     "execution_count": 43,
     "metadata": {},
     "output_type": "execute_result"
    }
   ],
   "source": [
    "print('~'*100, 'REAL TEXT')\n",
    "[tf.strings.reduce_join([num_to_char(word) for word in sentence]) for sentence in [sample[1]]]"
   ]
  },
  {
   "cell_type": "code",
   "execution_count": 44,
   "metadata": {},
   "outputs": [
    {
     "name": "stdout",
     "output_type": "stream",
     "text": [
      "1/1 [==============================] - 1s 1s/step\n"
     ]
    }
   ],
   "source": [
    "yhat = model.predict(tf.expand_dims(sample[0], axis=0))"
   ]
  },
  {
   "cell_type": "code",
   "execution_count": 45,
   "metadata": {},
   "outputs": [],
   "source": [
    "decoded = tf.keras.backend.ctc_decode(yhat, input_length=[75], greedy=True)[0][0].numpy()"
   ]
  },
  {
   "cell_type": "code",
   "execution_count": 46,
   "metadata": {},
   "outputs": [
    {
     "name": "stdout",
     "output_type": "stream",
     "text": [
      "~~~~~~~~~~~~~~~~~~~~~~~~~~~~~~~~~~~~~~~~~~~~~~~~~~~~~~~~~~~~~~~~~~~~~~~~~~~~~~~~~~~~~~~~~~~~~~~~~~~~ PREDICTIONS\n"
     ]
    },
    {
     "data": {
      "text/plain": [
       "[<tf.Tensor: shape=(), dtype=string, numpy=b'bin red at s nine again'>]"
      ]
     },
     "execution_count": 46,
     "metadata": {},
     "output_type": "execute_result"
    }
   ],
   "source": [
    "print('~'*100, 'PREDICTIONS')\n",
    "[tf.strings.reduce_join([num_to_char(word) for word in sentence]) for sentence in decoded]"
   ]
  },
  {
   "cell_type": "code",
   "execution_count": null,
   "metadata": {},
   "outputs": [],
   "source": []
  }
 ],
 "metadata": {
  "kernelspec": {
   "display_name": "Python 3 (ipykernel)",
   "language": "python",
   "name": "python3"
  },
  "language_info": {
   "codemirror_mode": {
    "name": "ipython",
    "version": 3
   },
   "file_extension": ".py",
   "mimetype": "text/x-python",
   "name": "python",
   "nbconvert_exporter": "python",
   "pygments_lexer": "ipython3",
   "version": "3.9.12"
  }
 },
 "nbformat": 4,
 "nbformat_minor": 2
}
